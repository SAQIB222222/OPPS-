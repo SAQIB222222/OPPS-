{
 "cells": [
  {
   "cell_type": "markdown",
   "id": "96e60c5d-7825-48b2-965a-98dacc14af8c",
   "metadata": {},
   "source": [
    "Q1. Explain Class and Object with respect to Object-Oriented Programming. Give a suitable example"
   ]
  },
  {
   "cell_type": "markdown",
   "id": "c9f3af72-9fd8-4dac-8a23-86d78f5e4b87",
   "metadata": {},
   "source": [
    "A class in object-oriented programming is a blueprint or template that specifies an object's characteristics and behaviour. On the other hand, an object is an instance of a class with particular values assigned to each of its properties. \n",
    "\n",
    "Consider a class called \"Car,\" for instance, which has characteristics like colour, model, and make as well as behaviours like start, stop, accelerate, and brake. A red Toyota Corolla that can start, accelerate, and brake is an example of an object belonging to this class."
   ]
  },
  {
   "cell_type": "markdown",
   "id": "703c643b-a4e8-496c-899e-167cc2e416eb",
   "metadata": {},
   "source": [
    "Q2. Name the four pillars of OOPs."
   ]
  },
  {
   "cell_type": "markdown",
   "id": "308223af-ef65-42ed-8cb7-f074a66e7a73",
   "metadata": {},
   "source": [
    "Object-Oriented Programming's four pillars are: \n",
    "\n",
    "Ability to portray complex real-world situations in streamlined models through abstraction. \n",
    "\n",
    "Encapsulation: The capacity to conceal the complexity of the information and the code by offering a user-friendly public interface. \n",
    "\n",
    "The ability to reuse the existing code and properties of a parent class while creating new classes is known as inheritance. \n",
    "\n",
    "The capacity to represent an object in various ways so that it can be used in various contexts is known as polymorphism."
   ]
  },
  {
   "cell_type": "markdown",
   "id": "a78baabb-9df5-493a-bd4f-e6a126234ea4",
   "metadata": {},
   "source": [
    "Q3 Explain why the init() function is used. Give a suitable example.\n",
    "\n"
   ]
  },
  {
   "cell_type": "markdown",
   "id": "f324b345-5bb9-44f9-8a99-5f74527d1bba",
   "metadata": {},
   "source": [
    "When an object is formed, its properties are initialised using the init() function. When an object is created from a class, a particular method is automatically invoked. \n"
   ]
  },
  {
   "cell_type": "code",
   "execution_count": 25,
   "id": "c4693ea0-c354-4f23-8c0c-aa1f4fd3439e",
   "metadata": {},
   "outputs": [],
   "source": [
    "class Person:\n",
    "    def __init__(self, name, age, gender):\n",
    "        self.name = name\n",
    "        self.age = age\n",
    "        self.gender = gender\n",
    "    def return_person_details(self):\n",
    "        return self.name,self.age,self.gender\n"
   ]
  },
  {
   "cell_type": "code",
   "execution_count": 26,
   "id": "0a12b410-5c75-4437-8c34-43ce954fa0db",
   "metadata": {},
   "outputs": [],
   "source": [
    "saqib = Person('saqib',44,'male')"
   ]
  },
  {
   "cell_type": "code",
   "execution_count": 27,
   "id": "20d10414-fe50-4e60-b8fa-36cc93dd2390",
   "metadata": {},
   "outputs": [
    {
     "data": {
      "text/plain": [
       "44"
      ]
     },
     "execution_count": 27,
     "metadata": {},
     "output_type": "execute_result"
    }
   ],
   "source": [
    "saqib.age"
   ]
  },
  {
   "cell_type": "code",
   "execution_count": 28,
   "id": "61089571-86db-4b0c-80fa-73188a19242c",
   "metadata": {},
   "outputs": [
    {
     "data": {
      "text/plain": [
       "('saqib', 44, 'male')"
      ]
     },
     "execution_count": 28,
     "metadata": {},
     "output_type": "execute_result"
    }
   ],
   "source": [
    "saqib.return_person_details()"
   ]
  },
  {
   "cell_type": "markdown",
   "id": "fcaab506-3234-4540-8984-8b9cc75321d6",
   "metadata": {},
   "source": [
    "Q4 Why self is used in OOPs?\n",
    "\n"
   ]
  },
  {
   "cell_type": "markdown",
   "id": "775173ea-5eb8-43c2-874d-bda9372f8347",
   "metadata": {},
   "source": [
    " In Object-Oriented Programming, self is used to refer to the object that is currently being manipulated. It is a reference to the instance of the class and allows the object to access its own properties and methods.\n",
    "\n"
   ]
  },
  {
   "cell_type": "markdown",
   "id": "c2e8ba4b-d8fb-4b6d-aca1-f11317b5b1a9",
   "metadata": {},
   "source": [
    "Q5. What is inheritance? Give an example for each type of inheritance."
   ]
  },
  {
   "cell_type": "markdown",
   "id": "7a255663-c69e-4243-ac5f-beb263c12d64",
   "metadata": {},
   "source": [
    "An existing class can be used as the foundation for a new class, which can then inherit its properties and functions, thanks to the technique of inheritance in object-oriented programming. The new class is referred to as the child class or subclass, and the existing class is referred to as the parent class or superclass. \n",
    "\n",
    "There are various inheritance patterns, including:"
   ]
  },
  {
   "cell_type": "markdown",
   "id": "72734ad6-1b99-47f3-81d1-22d5ca1815a7",
   "metadata": {},
   "source": [
    "1.Single Inheritance: In Single Inheritance, a subclass inherits from a single parent class. For example:"
   ]
  },
  {
   "cell_type": "code",
   "execution_count": 30,
   "id": "941b898b-a2d7-4dec-84e5-643c6c6a6e43",
   "metadata": {},
   "outputs": [
    {
     "name": "stdout",
     "output_type": "stream",
     "text": [
      "Buddy is eating.\n",
      "Buddy is barking.\n"
     ]
    }
   ],
   "source": [
    "class Animal:\n",
    "    def __init__(self, name, species):\n",
    "        self.name = name\n",
    "        self.species = species\n",
    "\n",
    "    def eat(self):\n",
    "        print(f\"{self.name} is eating.\")\n",
    "\n",
    "class Dog(Animal):\n",
    "    def __init__(self, name, breed):\n",
    "        super().__init__(name, species=\"Dog\")\n",
    "        self.breed = breed\n",
    "\n",
    "    def bark(self):\n",
    "        print(f\"{self.name} is barking.\")\n",
    "\n",
    "my_dog = Dog(\"Buddy\", \"Golden Retriever\")\n",
    "my_dog.eat()  \n",
    "my_dog.bark() \n"
   ]
  },
  {
   "cell_type": "markdown",
   "id": "ec1a1c0b-1e65-4680-95bb-766483c65a91",
   "metadata": {},
   "source": [
    "2.Multiple Inheritance: In Multiple Inheritance, a subclass inherits from multiple parent classes. For example:"
   ]
  },
  {
   "cell_type": "code",
   "execution_count": 31,
   "id": "10b4e3cd-0a9c-44a4-8463-ef2662d0abc2",
   "metadata": {},
   "outputs": [
    {
     "name": "stdout",
     "output_type": "stream",
     "text": [
      "Buddy is eating.\n",
      "Buddy is barking.\n"
     ]
    }
   ],
   "source": [
    "class Animal:\n",
    "    def __init__(self, name, species):\n",
    "        self.name = name\n",
    "        self.species = species\n",
    "\n",
    "    def eat(self):\n",
    "        print(f\"{self.name} is eating.\")\n",
    "\n",
    "class Canine:\n",
    "    def bark(self):\n",
    "        print(f\"{self.name} is barking.\")\n",
    "\n",
    "class Dog(Animal, Canine):\n",
    "    def __init__(self, name, breed):\n",
    "        super().__init__(name, species=\"Dog\")\n",
    "        self.breed = breed\n",
    "\n",
    "my_dog = Dog(\"Buddy\", \"Golden Retriever\")\n",
    "my_dog.eat()  \n",
    "my_dog.bark() \n"
   ]
  },
  {
   "cell_type": "markdown",
   "id": "1c85b7fe-c0d1-45ae-aef4-a289fbdd918b",
   "metadata": {},
   "source": [
    "3.Hierarchical Inheritance: In Hierarchical Inheritance, multiple child classes inherit from a single parent class. For example:\n",
    "python\n"
   ]
  },
  {
   "cell_type": "code",
   "execution_count": 32,
   "id": "bc5d4c9f-1900-4cb1-97bc-1c3206a3c1cf",
   "metadata": {},
   "outputs": [
    {
     "name": "stdout",
     "output_type": "stream",
     "text": [
      "Buddy is eating.\n",
      "Buddy is barking.\n",
      "Whiskers is eating.\n",
      "Whiskers is meowing.\n"
     ]
    }
   ],
   "source": [
    "class Animal:\n",
    "    def __init__(self, name, species):\n",
    "        self.name = name\n",
    "        self.species = species\n",
    "\n",
    "    def eat(self):\n",
    "        print(f\"{self.name} is eating.\")\n",
    "\n",
    "class Dog(Animal):\n",
    "    def __init__(self, name, breed):\n",
    "        super().__init__(name, species=\"Dog\")\n",
    "        self.breed = breed\n",
    "\n",
    "    def bark(self):\n",
    "        print(f\"{self.name} is barking.\")\n",
    "\n",
    "class Cat(Animal):\n",
    "    def __init__(self, name, breed):\n",
    "        super().__init__(name, species=\"Cat\")\n",
    "        self.breed = breed\n",
    "\n",
    "    def meow(self):\n",
    "        print(f\"{self.name} is meowing.\")\n",
    "\n",
    "my_dog = Dog(\"Buddy\", \"Golden Retriever\")\n",
    "my_cat = Cat(\"Whiskers\", \"Persian\")\n",
    "my_dog.eat()  \n",
    "my_dog.bark() \n",
    "my_cat.eat()  \n",
    "my_cat.meow()\n"
   ]
  },
  {
   "cell_type": "markdown",
   "id": "aeaf6acd-2ef3-4b16-ad53-0fd3f17102ad",
   "metadata": {},
   "source": [
    "4.Multilevel Inheritance: In Multilevel Inheritance, a subclass inherits from a parent class, which in turn inherits from another parent class. For example:"
   ]
  },
  {
   "cell_type": "code",
   "execution_count": 36,
   "id": "7430b3f2-0fbb-487a-b348-1cc4df0214d7",
   "metadata": {},
   "outputs": [
    {
     "name": "stdout",
     "output_type": "stream",
     "text": [
      "Buddy is eating.\n",
      "Buddy is nursing.\n",
      "Buddy is barking.\n"
     ]
    }
   ],
   "source": [
    "\n",
    "class Animal:\n",
    "    def __init__(self, name, species):\n",
    "        self.name = name\n",
    "        self.species = species\n",
    "\n",
    "    def eat(self):\n",
    "        print(f\"{self.name} is eating.\")\n",
    "\n",
    "class Mammal(Animal):\n",
    "    def nurse(self):\n",
    "        print(f\"{self.name} is nursing.\")\n",
    "\n",
    "class Dog(Mammal):\n",
    "    def __init__(self, name, breed):\n",
    "        super().__init__(name, species=\"Dog\")\n",
    "        self.breed = breed\n",
    "\n",
    "    def bark(self):\n",
    "        print(f\"{self.name} is barking.\")\n",
    "\n",
    "my_dog = Dog(\"Buddy\", \"Golden Retriever\")\n",
    "my_dog.eat()   \n",
    "my_dog.nurse()\n",
    "my_dog.bark()  \n"
   ]
  },
  {
   "cell_type": "code",
   "execution_count": null,
   "id": "66a3d5a9-54f7-4866-b1c9-a8b2c34fbabc",
   "metadata": {},
   "outputs": [],
   "source": []
  }
 ],
 "metadata": {
  "kernelspec": {
   "display_name": "Python 3 (ipykernel)",
   "language": "python",
   "name": "python3"
  },
  "language_info": {
   "codemirror_mode": {
    "name": "ipython",
    "version": 3
   },
   "file_extension": ".py",
   "mimetype": "text/x-python",
   "name": "python",
   "nbconvert_exporter": "python",
   "pygments_lexer": "ipython3",
   "version": "3.10.8"
  }
 },
 "nbformat": 4,
 "nbformat_minor": 5
}
